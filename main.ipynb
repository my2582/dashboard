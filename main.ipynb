{
 "cells": [
  {
   "cell_type": "code",
   "execution_count": 5,
   "metadata": {},
   "outputs": [],
   "source": [
    "# Pandas for data management\n",
    "import pandas as pd\n",
    "\n",
    "# os methods for manipulating paths\n",
    "from os.path import dirname, join\n",
    "\n",
    "# Bokeh basics \n",
    "from bokeh.io import curdoc\n",
    "from bokeh.models.widgets import Tabs\n",
    "\n",
    "\n",
    "# Each tab is drawn by one script\n",
    "from scripts.histogram import histogram_tab\n",
    "from scripts.density import density_tab\n",
    "from scripts.table import table_tab\n",
    "from scripts.draw_map import map_tab\n",
    "from scripts.routes import route_tab\n",
    "\n",
    "# Using included state data from Bokeh for map\n",
    "from bokeh.sampledata.us_states import data as states\n",
    "\n",
    "# Read data into dataframes\n",
    "flights = pd.read_csv(join('data', 'flights.csv'), \n",
    "\t                                          index_col=0).dropna()\n",
    "\n",
    "# Formatted Flight Delay Data for map\n",
    "map_data = pd.read_csv(join('data', 'flights_map.csv'),\n",
    "                            header=[0,1], index_col=0)\n",
    "\n",
    "# Create each of the tabs\n",
    "tab1 = histogram_tab(flights)\n",
    "tab2 = density_tab(flights)\n",
    "tab3 = table_tab(flights)\n",
    "tab4 = map_tab(map_data, states)\n",
    "tab5 = route_tab(flights)\n",
    "\n",
    "# Put all the tabs into one application\n",
    "tabs = Tabs(tabs = [tab1, tab2, tab3, tab4, tab5])\n",
    "\n",
    "# Put the tabs in the current document for display\n",
    "curdoc().add_root(tabs)\n",
    "\n"
   ]
  },
  {
   "cell_type": "code",
   "execution_count": null,
   "metadata": {},
   "outputs": [],
   "source": []
  }
 ],
 "metadata": {
  "kernelspec": {
   "display_name": "Python 3",
   "language": "python",
   "name": "python3"
  },
  "language_info": {
   "codemirror_mode": {
    "name": "ipython",
    "version": 3
   },
   "file_extension": ".py",
   "mimetype": "text/x-python",
   "name": "python",
   "nbconvert_exporter": "python",
   "pygments_lexer": "ipython3",
   "version": "3.7.2"
  }
 },
 "nbformat": 4,
 "nbformat_minor": 2
}
